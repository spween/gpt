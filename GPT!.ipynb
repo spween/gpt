{
  "cells": [
    {
      "cell_type": "markdown",
      "metadata": {
        "id": "wJpXpmjEYC_T"
      },
      "source": [
        "## Building a GPT\n",
        "\n",
        "Companion notebook to the [Zero To Hero](https://karpathy.ai/zero-to-hero.html) video on GPT."
      ]
    },
    {
      "cell_type": "code",
      "execution_count": null,
      "metadata": {
        "colab": {
          "base_uri": "https://localhost:8080/"
        },
        "id": "h5hjCcLDr2WC",
        "outputId": "3d30a0cc-414c-4b59-9e61-d858bce138dd"
      },
      "outputs": [
        {
          "output_type": "stream",
          "name": "stdout",
          "text": [
            "--2023-11-16 06:43:07--  https://raw.githubusercontent.com/spween/gpt/master/star-wars-gpt.txt\n",
            "Resolving raw.githubusercontent.com (raw.githubusercontent.com)... 185.199.110.133, 185.199.111.133, 185.199.108.133, ...\n",
            "Connecting to raw.githubusercontent.com (raw.githubusercontent.com)|185.199.110.133|:443... connected.\n",
            "HTTP request sent, awaiting response... 200 OK\n",
            "Length: 325816 (318K) [text/plain]\n",
            "Saving to: ‘star-wars-gpt.txt’\n",
            "\n",
            "star-wars-gpt.txt   100%[===================>] 318.18K  --.-KB/s    in 0.04s   \n",
            "\n",
            "2023-11-16 06:43:07 (6.98 MB/s) - ‘star-wars-gpt.txt’ saved [325816/325816]\n",
            "\n"
          ]
        }
      ],
      "source": [
        "# We always start with a dataset to train on. Let's download the tiny shakespeare dataset\n",
        "!wget https://raw.githubusercontent.com/spween/gpt/master/star-wars-gpt.txt"
      ]
    },
    {
      "cell_type": "code",
      "execution_count": null,
      "metadata": {
        "id": "O6medjfRsLD9"
      },
      "outputs": [],
      "source": [
        "# read it in to inspect it\n",
        "with open('star-wars-gpt.txt', 'r', encoding='utf-8') as f:\n",
        "    text = f.read()"
      ]
    },
    {
      "cell_type": "code",
      "execution_count": null,
      "metadata": {
        "colab": {
          "base_uri": "https://localhost:8080/"
        },
        "id": "6xWI_VyAsN8F",
        "outputId": "b6c5c2d5-5bbe-404b-d94c-45371614827e"
      },
      "outputs": [
        {
          "output_type": "stream",
          "name": "stdout",
          "text": [
            "length of dataset in characters:  325816\n"
          ]
        }
      ],
      "source": [
        "print(\"length of dataset in characters: \", len(text))"
      ]
    },
    {
      "cell_type": "code",
      "execution_count": null,
      "metadata": {
        "colab": {
          "base_uri": "https://localhost:8080/"
        },
        "id": "2c5V0FvqseE0",
        "outputId": "379fa798-cb0e-4ab3-82dd-6d360669e7f9"
      },
      "outputs": [
        {
          "output_type": "stream",
          "name": "stdout",
          "text": [
            "\n",
            "               A long time ago, in a galaxy far, far, away...\n",
            "\n",
            "               A vast sea of stars serves as the backdrop for the main title. \n",
            "               War drums echo through the heavens as a rollup slowly crawls \n",
            "               into infinity.\n",
            "\n",
            "                    It is a period of civil war. Rebel spaceships, \n",
            "                    striking from a hidden base, have won their first \n",
            "                    victory against the evil Galactic Empire.\n",
            "\n",
            "                    During the battle, Rebel spies managed to steal \n",
            "                    secret plans to the Empire's ultimate weapon, the \n",
            "                    Death Star, an armored space station with enough \n",
            "                    power to destroy an entire planet.\n",
            "\n",
            "                    Pursued by the Empire's sinister agents, Princess \n",
            "                    Leia races home aboard her starship, custodian of \n",
            "                    the stolen plans that can save her people and \n",
            "                    restore freedom to the galaxy...\n",
            "\n",
            "               The\n"
          ]
        }
      ],
      "source": [
        "# let's look at the first 1000 characters\n",
        "print(text[:1000])"
      ]
    },
    {
      "cell_type": "code",
      "execution_count": null,
      "metadata": {
        "colab": {
          "base_uri": "https://localhost:8080/"
        },
        "id": "0e-Rbyr8sfM8",
        "outputId": "57522888-8cd3-4770-f2c7-ed937a8b1743"
      },
      "outputs": [
        {
          "output_type": "stream",
          "name": "stdout",
          "text": [
            "\n",
            " !\"'(),-./0234789:;?ABCDEFGHIJKLMNOPQRSTUVWXYZ]abcdefghijklmnopqrstuvwxyz\n",
            "74\n"
          ]
        }
      ],
      "source": [
        "# here are all the unique characters that occur in this text\n",
        "chars = sorted(list(set(text)))\n",
        "vocab_size = len(chars)\n",
        "print(''.join(chars))\n",
        "print(vocab_size)"
      ]
    },
    {
      "cell_type": "code",
      "execution_count": null,
      "metadata": {
        "colab": {
          "base_uri": "https://localhost:8080/"
        },
        "id": "Yw1LKNCgwjj1",
        "outputId": "3ea92f88-0a59-432d-bed6-57071e8e6833"
      },
      "outputs": [
        {
          "output_type": "stream",
          "name": "stdout",
          "text": [
            "[55, 56, 56, 1, 67, 55, 52, 65, 52]\n",
            "hii there\n"
          ]
        }
      ],
      "source": [
        "# create a mapping from characters to integers\n",
        "stoi = { ch:i for i,ch in enumerate(chars) }\n",
        "itos = { i:ch for i,ch in enumerate(chars) }\n",
        "encode = lambda s: [stoi[c] for c in s] # encoder: take a string, output a list of integers\n",
        "decode = lambda l: ''.join([itos[i] for i in l]) # decoder: take a list of integers, output a string\n",
        "\n",
        "print(encode(\"hii there\"))\n",
        "print(decode(encode(\"hii there\")))"
      ]
    },
    {
      "cell_type": "code",
      "execution_count": null,
      "metadata": {
        "colab": {
          "base_uri": "https://localhost:8080/"
        },
        "id": "YJb0OXPwzvqg",
        "outputId": "e9cf7c0a-6fa4-4342-abec-8a00b85b0e78"
      },
      "outputs": [
        {
          "output_type": "stream",
          "name": "stdout",
          "text": [
            "torch.Size([325816]) <built-in method type of Tensor object at 0x78688e902610>\n",
            "tensor([ 0,  1,  1,  1,  1,  1,  1,  1,  1,  1,  1,  1,  1,  1,  1,  1, 21,  1,\n",
            "        59, 62, 61, 54,  1, 67, 56, 60, 52,  1, 48, 54, 62,  7,  1, 56, 61,  1,\n",
            "        48,  1, 54, 48, 59, 48, 71, 72,  1, 53, 48, 65,  7,  1, 53, 48, 65,  7,\n",
            "         1, 48, 70, 48, 72,  9,  9,  9,  0,  0,  1,  1,  1,  1,  1,  1,  1,  1,\n",
            "         1,  1,  1,  1,  1,  1,  1, 21,  1, 69, 48, 66, 67,  1, 66, 52, 48,  1,\n",
            "        62, 53,  1, 66, 67, 48, 65, 66,  1, 66, 52, 65, 69, 52, 66,  1, 48, 66,\n",
            "         1, 67, 55, 52,  1, 49, 48, 50, 58, 51, 65, 62, 63,  1, 53, 62, 65,  1,\n",
            "        67, 55, 52,  1, 60, 48, 56, 61,  1, 67, 56, 67, 59, 52,  9,  1,  0,  1,\n",
            "         1,  1,  1,  1,  1,  1,  1,  1,  1,  1,  1,  1,  1,  1, 43, 48, 65,  1,\n",
            "        51, 65, 68, 60, 66,  1, 52, 50, 55, 62,  1, 67, 55, 65, 62, 68, 54, 55,\n",
            "         1, 67, 55, 52,  1, 55, 52, 48, 69, 52, 61, 66,  1, 48, 66,  1, 48,  1,\n",
            "        65, 62, 59, 59, 68, 63,  1, 66, 59, 62, 70, 59, 72,  1, 50, 65, 48, 70,\n",
            "        59, 66,  1,  0,  1,  1,  1,  1,  1,  1,  1,  1,  1,  1,  1,  1,  1,  1,\n",
            "         1, 56, 61, 67, 62,  1, 56, 61, 53, 56, 61, 56, 67, 72,  9,  0,  0,  1,\n",
            "         1,  1,  1,  1,  1,  1,  1,  1,  1,  1,  1,  1,  1,  1,  1,  1,  1,  1,\n",
            "         1, 29, 67,  1, 56, 66,  1, 48,  1, 63, 52, 65, 56, 62, 51,  1, 62, 53,\n",
            "         1, 50, 56, 69, 56, 59,  1, 70, 48, 65,  9,  1, 38, 52, 49, 52, 59,  1,\n",
            "        66, 63, 48, 50, 52, 66, 55, 56, 63, 66,  7,  1,  0,  1,  1,  1,  1,  1,\n",
            "         1,  1,  1,  1,  1,  1,  1,  1,  1,  1,  1,  1,  1,  1,  1, 66, 67, 65,\n",
            "        56, 58, 56, 61, 54,  1, 53, 65, 62, 60,  1, 48,  1, 55, 56, 51, 51, 52,\n",
            "        61,  1, 49, 48, 66, 52,  7,  1, 55, 48, 69, 52,  1, 70, 62, 61,  1, 67,\n",
            "        55, 52, 56, 65,  1, 53, 56, 65, 66, 67,  1,  0,  1,  1,  1,  1,  1,  1,\n",
            "         1,  1,  1,  1,  1,  1,  1,  1,  1,  1,  1,  1,  1,  1, 69, 56, 50, 67,\n",
            "        62, 65, 72,  1, 48, 54, 48, 56, 61, 66, 67,  1, 67, 55, 52,  1, 52, 69,\n",
            "        56, 59,  1, 27, 48, 59, 48, 50, 67, 56, 50,  1, 25, 60, 63, 56, 65, 52,\n",
            "         9,  0,  0,  1,  1,  1,  1,  1,  1,  1,  1,  1,  1,  1,  1,  1,  1,  1,\n",
            "         1,  1,  1,  1,  1, 24, 68, 65, 56, 61, 54,  1, 67, 55, 52,  1, 49, 48,\n",
            "        67, 67, 59, 52,  7,  1, 38, 52, 49, 52, 59,  1, 66, 63, 56, 52, 66,  1,\n",
            "        60, 48, 61, 48, 54, 52, 51,  1, 67, 62,  1, 66, 67, 52, 48, 59,  1,  0,\n",
            "         1,  1,  1,  1,  1,  1,  1,  1,  1,  1,  1,  1,  1,  1,  1,  1,  1,  1,\n",
            "         1,  1, 66, 52, 50, 65, 52, 67,  1, 63, 59, 48, 61, 66,  1, 67, 62,  1,\n",
            "        67, 55, 52,  1, 25, 60, 63, 56, 65, 52,  4, 66,  1, 68, 59, 67, 56, 60,\n",
            "        48, 67, 52,  1, 70, 52, 48, 63, 62, 61,  7,  1, 67, 55, 52,  1,  0,  1,\n",
            "         1,  1,  1,  1,  1,  1,  1,  1,  1,  1,  1,  1,  1,  1,  1,  1,  1,  1,\n",
            "         1, 24, 52, 48, 67, 55,  1, 39, 67, 48, 65,  7,  1, 48, 61,  1, 48, 65,\n",
            "        60, 62, 65, 52, 51,  1, 66, 63, 48, 50, 52,  1, 66, 67, 48, 67, 56, 62,\n",
            "        61,  1, 70, 56, 67, 55,  1, 52, 61, 62, 68, 54, 55,  1,  0,  1,  1,  1,\n",
            "         1,  1,  1,  1,  1,  1,  1,  1,  1,  1,  1,  1,  1,  1,  1,  1,  1, 63,\n",
            "        62, 70, 52, 65,  1, 67, 62,  1, 51, 52, 66, 67, 65, 62, 72,  1, 48, 61,\n",
            "         1, 52, 61, 67, 56, 65, 52,  1, 63, 59, 48, 61, 52, 67,  9,  0,  0,  1,\n",
            "         1,  1,  1,  1,  1,  1,  1,  1,  1,  1,  1,  1,  1,  1,  1,  1,  1,  1,\n",
            "         1, 36, 68, 65, 66, 68, 52, 51,  1, 49, 72,  1, 67, 55, 52,  1, 25, 60,\n",
            "        63, 56, 65, 52,  4, 66,  1, 66, 56, 61, 56, 66, 67, 52, 65,  1, 48, 54,\n",
            "        52, 61, 67, 66,  7,  1, 36, 65, 56, 61, 50, 52, 66, 66,  1,  0,  1,  1,\n",
            "         1,  1,  1,  1,  1,  1,  1,  1,  1,  1,  1,  1,  1,  1,  1,  1,  1,  1,\n",
            "        32, 52, 56, 48,  1, 65, 48, 50, 52, 66,  1, 55, 62, 60, 52,  1, 48, 49,\n",
            "        62, 48, 65, 51,  1, 55, 52, 65,  1, 66, 67, 48, 65, 66, 55, 56, 63,  7,\n",
            "         1, 50, 68, 66, 67, 62, 51, 56, 48, 61,  1, 62, 53,  1,  0,  1,  1,  1,\n",
            "         1,  1,  1,  1,  1,  1,  1,  1,  1,  1,  1,  1,  1,  1,  1,  1,  1, 67,\n",
            "        55, 52,  1, 66, 67, 62, 59, 52, 61,  1, 63, 59, 48, 61, 66,  1, 67, 55,\n",
            "        48, 67,  1, 50, 48, 61,  1, 66, 48, 69, 52,  1, 55, 52, 65,  1, 63, 52,\n",
            "        62, 63, 59, 52,  1, 48, 61, 51,  1,  0,  1,  1,  1,  1,  1,  1,  1,  1,\n",
            "         1,  1,  1,  1,  1,  1,  1,  1,  1,  1,  1,  1, 65, 52, 66, 67, 62, 65,\n",
            "        52,  1, 53, 65, 52, 52, 51, 62, 60,  1, 67, 62,  1, 67, 55, 52,  1, 54,\n",
            "        48, 59, 48, 71, 72,  9,  9,  9,  0,  0,  1,  1,  1,  1,  1,  1,  1,  1,\n",
            "         1,  1,  1,  1,  1,  1,  1, 40, 55, 52])\n"
          ]
        }
      ],
      "source": [
        "# let's now encode the entire text dataset and store it into a torch.Tensor\n",
        "import torch\n",
        "data = torch.tensor(encode(text), dtype = torch.long)\n",
        "print(data.shape, data.type)\n",
        "print(data[:1000])"
      ]
    },
    {
      "cell_type": "code",
      "execution_count": null,
      "metadata": {
        "id": "f_WIXqxz0lU5"
      },
      "outputs": [],
      "source": [
        "# Let's now split up the data into train and validation sets\n",
        "# note from me: training data is for configuring the NLP model, and validation is what will be used\n",
        "# to ensure the model is not being overfitted\n",
        "n = int(0.9*len(data)) # first 90% will be train, rest val\n",
        "train_data = data[:n]\n",
        "val_data = data[n:]"
      ]
    },
    {
      "cell_type": "code",
      "execution_count": null,
      "metadata": {
        "colab": {
          "base_uri": "https://localhost:8080/"
        },
        "id": "TD5Bj8Y6IAD4",
        "outputId": "af08658f-53a9-4c0b-a018-6b9fe963a01f"
      },
      "outputs": [
        {
          "output_type": "execute_result",
          "data": {
            "text/plain": [
              "tensor([ 0,  1,  1,  1,  1,  1,  1,  1,  1,  1,  1,  1,  1,  1,  1,  1, 21,  1,\n",
              "        59, 62, 61])"
            ]
          },
          "metadata": {},
          "execution_count": 12
        }
      ],
      "source": [
        "block_size = 20\n",
        "train_data[:block_size+1]\n",
        "# potential error? why are they all 1s? if there is an error in the model\n",
        "# maybe a new data set would be better"
      ]
    },
    {
      "cell_type": "code",
      "execution_count": null,
      "metadata": {
        "colab": {
          "base_uri": "https://localhost:8080/"
        },
        "id": "9HXDe8vGJCEn",
        "outputId": "37c5ff57-3e4e-4828-bb14-508ee9e2c9e9"
      },
      "outputs": [
        {
          "output_type": "stream",
          "name": "stdout",
          "text": [
            "when input is tensor([0]) the target: 1\n",
            "when input is tensor([0, 1]) the target: 1\n",
            "when input is tensor([0, 1, 1]) the target: 1\n",
            "when input is tensor([0, 1, 1, 1]) the target: 1\n",
            "when input is tensor([0, 1, 1, 1, 1]) the target: 1\n",
            "when input is tensor([0, 1, 1, 1, 1, 1]) the target: 1\n",
            "when input is tensor([0, 1, 1, 1, 1, 1, 1]) the target: 1\n",
            "when input is tensor([0, 1, 1, 1, 1, 1, 1, 1]) the target: 1\n",
            "when input is tensor([0, 1, 1, 1, 1, 1, 1, 1, 1]) the target: 1\n",
            "when input is tensor([0, 1, 1, 1, 1, 1, 1, 1, 1, 1]) the target: 1\n",
            "when input is tensor([0, 1, 1, 1, 1, 1, 1, 1, 1, 1, 1]) the target: 1\n",
            "when input is tensor([0, 1, 1, 1, 1, 1, 1, 1, 1, 1, 1, 1]) the target: 1\n",
            "when input is tensor([0, 1, 1, 1, 1, 1, 1, 1, 1, 1, 1, 1, 1]) the target: 1\n",
            "when input is tensor([0, 1, 1, 1, 1, 1, 1, 1, 1, 1, 1, 1, 1, 1]) the target: 1\n",
            "when input is tensor([0, 1, 1, 1, 1, 1, 1, 1, 1, 1, 1, 1, 1, 1, 1]) the target: 1\n",
            "when input is tensor([0, 1, 1, 1, 1, 1, 1, 1, 1, 1, 1, 1, 1, 1, 1, 1]) the target: 21\n",
            "when input is tensor([ 0,  1,  1,  1,  1,  1,  1,  1,  1,  1,  1,  1,  1,  1,  1,  1, 21]) the target: 1\n",
            "when input is tensor([ 0,  1,  1,  1,  1,  1,  1,  1,  1,  1,  1,  1,  1,  1,  1,  1, 21,  1]) the target: 59\n",
            "when input is tensor([ 0,  1,  1,  1,  1,  1,  1,  1,  1,  1,  1,  1,  1,  1,  1,  1, 21,  1,\n",
            "        59]) the target: 62\n",
            "when input is tensor([ 0,  1,  1,  1,  1,  1,  1,  1,  1,  1,  1,  1,  1,  1,  1,  1, 21,  1,\n",
            "        59, 62]) the target: 61\n"
          ]
        }
      ],
      "source": [
        "x = train_data[:block_size]\n",
        "y = train_data[1:block_size+1]\n",
        "for t in range(block_size):\n",
        "    context = x[:t+1]\n",
        "    target = y[t]\n",
        "    print(f\"when input is {context} the target: {target}\")"
      ]
    },
    {
      "cell_type": "code",
      "execution_count": null,
      "metadata": {
        "colab": {
          "base_uri": "https://localhost:8080/"
        },
        "id": "Q3k1Czf7LuA9",
        "outputId": "b5dbd590-dab0-43a4-a0a3-0b20f256d6f2"
      },
      "outputs": [
        {
          "output_type": "stream",
          "name": "stdout",
          "text": [
            "inputs:\n",
            "torch.Size([4, 8])\n",
            "tensor([[35, 23, 31, 36, 29, 40,  0,  0],\n",
            "        [62, 68,  1, 55, 48, 51, 61,  4],\n",
            "        [72, 62, 68,  1, 70, 52, 65, 52],\n",
            "        [ 1,  1,  1,  1,  1,  1,  1,  1]])\n",
            "targets:\n",
            "torch.Size([4, 8])\n",
            "tensor([[23, 31, 36, 29, 40,  0,  0,  1],\n",
            "        [68,  1, 55, 48, 51, 61,  4, 67],\n",
            "        [62, 68,  1, 70, 52, 65, 52,  1],\n",
            "        [ 1,  1,  1,  1,  1,  1,  1,  1]])\n",
            "----\n",
            "when input is [35] the target: 23\n",
            "when input is [35, 23] the target: 31\n",
            "when input is [35, 23, 31] the target: 36\n",
            "when input is [35, 23, 31, 36] the target: 29\n",
            "when input is [35, 23, 31, 36, 29] the target: 40\n",
            "when input is [35, 23, 31, 36, 29, 40] the target: 0\n",
            "when input is [35, 23, 31, 36, 29, 40, 0] the target: 0\n",
            "when input is [35, 23, 31, 36, 29, 40, 0, 0] the target: 1\n",
            "when input is [62] the target: 68\n",
            "when input is [62, 68] the target: 1\n",
            "when input is [62, 68, 1] the target: 55\n",
            "when input is [62, 68, 1, 55] the target: 48\n",
            "when input is [62, 68, 1, 55, 48] the target: 51\n",
            "when input is [62, 68, 1, 55, 48, 51] the target: 61\n",
            "when input is [62, 68, 1, 55, 48, 51, 61] the target: 4\n",
            "when input is [62, 68, 1, 55, 48, 51, 61, 4] the target: 67\n",
            "when input is [72] the target: 62\n",
            "when input is [72, 62] the target: 68\n",
            "when input is [72, 62, 68] the target: 1\n",
            "when input is [72, 62, 68, 1] the target: 70\n",
            "when input is [72, 62, 68, 1, 70] the target: 52\n",
            "when input is [72, 62, 68, 1, 70, 52] the target: 65\n",
            "when input is [72, 62, 68, 1, 70, 52, 65] the target: 52\n",
            "when input is [72, 62, 68, 1, 70, 52, 65, 52] the target: 1\n",
            "when input is [1] the target: 1\n",
            "when input is [1, 1] the target: 1\n",
            "when input is [1, 1, 1] the target: 1\n",
            "when input is [1, 1, 1, 1] the target: 1\n",
            "when input is [1, 1, 1, 1, 1] the target: 1\n",
            "when input is [1, 1, 1, 1, 1, 1] the target: 1\n",
            "when input is [1, 1, 1, 1, 1, 1, 1] the target: 1\n",
            "when input is [1, 1, 1, 1, 1, 1, 1, 1] the target: 1\n"
          ]
        }
      ],
      "source": [
        "# essentially, what I did above but for the entire dataset\n",
        "torch.manual_seed(1337)\n",
        "batch_size = 4 # how many independent sequences will we process in parallel?\n",
        "block_size = 8 # what is the maximum context length for predictions?\n",
        "\n",
        "def get_batch(split):\n",
        "    # generate a small batch of data of inputs x and targets y\n",
        "    data = train_data if split == 'train' else val_data\n",
        "    ix = torch.randint(len(data) - block_size, (batch_size,))\n",
        "    x = torch.stack([data[i:i+block_size] for i in ix])\n",
        "    y = torch.stack([data[i+1:i+block_size+1] for i in ix])\n",
        "    return x, y\n",
        "\n",
        "xb, yb = get_batch('train')\n",
        "print('inputs:')\n",
        "print(xb.shape)\n",
        "print(xb)\n",
        "print('targets:')\n",
        "print(yb.shape)\n",
        "print(yb)\n",
        "\n",
        "print('----')\n",
        "\n",
        "for b in range(batch_size): # batch dimension\n",
        "    for t in range(block_size): # time dimension\n",
        "        context = xb[b, :t+1]\n",
        "        target = yb[b,t]\n",
        "        print(f\"when input is {context.tolist()} the target: {target}\")"
      ]
    },
    {
      "cell_type": "code",
      "execution_count": null,
      "metadata": {
        "colab": {
          "base_uri": "https://localhost:8080/"
        },
        "id": "qpyyAeIzQjlO",
        "outputId": "288512bf-4ca0-4cfa-9624-cecb563d7cf8"
      },
      "outputs": [
        {
          "output_type": "stream",
          "name": "stdout",
          "text": [
            "tensor([[35, 23, 31, 36, 29, 40,  0,  0],\n",
            "        [62, 68,  1, 55, 48, 51, 61,  4],\n",
            "        [72, 62, 68,  1, 70, 52, 65, 52],\n",
            "        [ 1,  1,  1,  1,  1,  1,  1,  1]])\n"
          ]
        }
      ],
      "source": [
        "print(xb) # our input to the transformer"
      ]
    },
    {
      "cell_type": "code",
      "execution_count": null,
      "metadata": {
        "colab": {
          "base_uri": "https://localhost:8080/"
        },
        "id": "nql_1ER53oCf",
        "outputId": "b2c42c66-a414-4047-f2cc-f21a1223ec2e"
      },
      "outputs": [
        {
          "output_type": "stream",
          "name": "stdout",
          "text": [
            "torch.Size([32, 74])\n",
            "tensor(4.6010, grad_fn=<NllLossBackward0>)\n",
            "\n",
            "7Grngn4j\n",
            "7xOB.jCC9h/IZFgpF.)qKyg!v; OJ'g.xCMS3:\"QOafN4Zzli3Y,rGY7!mrii h7Y8DQ-D qjTUa.nE]\"U',: wIuxj\n"
          ]
        }
      ],
      "source": [
        "import torch\n",
        "import torch.nn as nn\n",
        "from torch.nn import functional as F\n",
        "torch.manual_seed(1337)\n",
        "\n",
        "class BigramLanguageModel(nn.Module):\n",
        "\n",
        "    def __init__(self, vocab_size):\n",
        "        super().__init__()\n",
        "        # each token directly reads off the logits for the next token from a lookup table\n",
        "        self.token_embedding_table = nn.Embedding(vocab_size, vocab_size)\n",
        "\n",
        "    def forward(self, idx, targets=None):\n",
        "\n",
        "        # idx and targets are both (B,T) tensor of integers\n",
        "        logits = self.token_embedding_table(idx) # (B,T,C)\n",
        "\n",
        "        if targets is None:\n",
        "            loss = None\n",
        "        else:\n",
        "            B, T, C = logits.shape\n",
        "            logits = logits.view(B*T, C)\n",
        "            targets = targets.view(B*T)\n",
        "            loss = F.cross_entropy(logits, targets)\n",
        "\n",
        "        return logits, loss\n",
        "\n",
        "    def generate(self, idx, max_new_tokens):\n",
        "        # idx is (B, T) array of indices in the current context\n",
        "        for _ in range(max_new_tokens):\n",
        "            # get the predictions\n",
        "            logits, loss = self(idx)\n",
        "            # focus only on the last time step\n",
        "            logits = logits[:, -1, :] # becomes (B, C)\n",
        "            # apply softmax to get probabilities\n",
        "            probs = F.softmax(logits, dim=-1) # (B, C)\n",
        "            # sample from the distribution\n",
        "            idx_next = torch.multinomial(probs, num_samples=1) # (B, 1)\n",
        "            # append sampled index to the running sequence\n",
        "            idx = torch.cat((idx, idx_next), dim=1) # (B, T+1)\n",
        "        return idx\n",
        "\n",
        "m = BigramLanguageModel(vocab_size)\n",
        "logits, loss = m(xb, yb)\n",
        "print(logits.shape)\n",
        "print(loss)\n",
        "\n",
        "print(decode(m.generate(idx = torch.zeros((1, 1), dtype=torch.long), max_new_tokens=100)[0].tolist()))\n"
      ]
    },
    {
      "cell_type": "code",
      "execution_count": null,
      "metadata": {
        "id": "eTyJ8qAaDdiF"
      },
      "outputs": [],
      "source": [
        "# create a PyTorch optimizer (281: optimizes to limit options (backtracking and such), but takes more time)\n",
        "optimizer = torch.optim.AdamW(m.parameters(), lr=1e-3)"
      ]
    },
    {
      "cell_type": "code",
      "execution_count": null,
      "metadata": {
        "colab": {
          "base_uri": "https://localhost:8080/"
        },
        "id": "Hs4kI8YdEkQj",
        "outputId": "2259bc30-a69f-41bf-f78a-5e43e5f229de"
      },
      "outputs": [
        {
          "output_type": "stream",
          "name": "stdout",
          "text": [
            "4.468474864959717\n"
          ]
        }
      ],
      "source": [
        "batch_size = 32\n",
        "for steps in range(100): # increase number of steps for good results...\n",
        "\n",
        "    # sample a batch of data\n",
        "    xb, yb = get_batch('train')\n",
        "\n",
        "    # evaluate the loss\n",
        "    logits, loss = m(xb, yb)\n",
        "    optimizer.zero_grad(set_to_none=True)\n",
        "    loss.backward()\n",
        "    optimizer.step()\n",
        "\n",
        "print(loss.item())\n"
      ]
    },
    {
      "cell_type": "code",
      "execution_count": null,
      "metadata": {
        "colab": {
          "base_uri": "https://localhost:8080/"
        },
        "id": "EcVIDWAZEtjN",
        "outputId": "07f3a99d-7577-4bae-c0ab-fa9bff6e7bb0"
      },
      "outputs": [
        {
          "output_type": "stream",
          "name": "stdout",
          "text": [
            "\n",
            "gzY,h/49EuevCEu7Mq8WD.o.xg.aJ;\"'GYe8.,ZFS\n",
            "f0fa?a/zc:CQ/4AnC-QWI-FNi!sK3RbwA?n]ONq8DcvPZAjN?z')dCieQJ4y!s:tdwT?zua?Vn8PXYQGv'p.IpC8XvIfW\n",
            "\n",
            "N]gqO/SzI:tdF R/'F/;\n",
            "o(w)4F!s9oE x0kGrUn]4lBihWC2fRT;bPEeejFNDxX-x]4S/wJ(tH?NAC!Wk(dBJ:J/3?uG\n",
            "y97iTmz.nSE\n",
            "gRSIuXMUx]Onc:PycD?Qf/nfGAnZy\":Qwh7MhZo9qKark!)v93 w,E7u9j3]gYec;'9bPEGy hFE0\"B\"QO(ueKZZRmb'Amt!Ai\"fey;9Ma?vqecL- k!v'D:kx.2vZGy-Bqnx\"BeQJge]4ifE-zj0y]A8e]gd;W\n",
            "gaIE]SIu33nY0zlnnhuPHXiTF0qmK!tCDEY:Og3 \"BVOJ)l-zC kC-zwIuIV!R/q9hr?PIYKpJcBHaqwPEQ4S,T v!\"?f)yN?,bJ\n",
            "y9ZEOQWuEQ'iX2o3Z]j)VBWJ W(uGYUHEaZfWsJHWn4i.R\n",
            "7paWFgPEjAxXq\"Tu w:'Dp)Z)vv2huEmPe,4t?\n",
            "PI?v:D?hphZfiw\n",
            "/PePE!LCkegJdejq]ak kaDM!v)oVB]?uaWEQ8;\"R9Rkq:y\"SgepDejTU3(dU(tDqzlvY.K(]Ye\"pyaK8\"T2wh/PHNI]Dc;\n"
          ]
        }
      ],
      "source": [
        "print(decode(m.generate(idx = torch.zeros((1, 1), dtype=torch.long), max_new_tokens=700)[0].tolist()))"
      ]
    },
    {
      "cell_type": "markdown",
      "metadata": {
        "id": "XinV8nmAnmKN"
      },
      "source": [
        "## The mathematical trick in self-attention"
      ]
    },
    {
      "cell_type": "code",
      "execution_count": null,
      "metadata": {
        "colab": {
          "base_uri": "https://localhost:8080/"
        },
        "id": "tukiH-NbRBhA",
        "outputId": "f2535f89-9a34-4a17-a46f-2ebddc152516"
      },
      "outputs": [
        {
          "output_type": "stream",
          "name": "stdout",
          "text": [
            "a=\n",
            "tensor([[1.0000, 0.0000, 0.0000],\n",
            "        [0.5000, 0.5000, 0.0000],\n",
            "        [0.3333, 0.3333, 0.3333]])\n",
            "--\n",
            "b=\n",
            "tensor([[2., 7.],\n",
            "        [6., 4.],\n",
            "        [6., 5.]])\n",
            "--\n",
            "c=\n",
            "tensor([[2.0000, 7.0000],\n",
            "        [4.0000, 5.5000],\n",
            "        [4.6667, 5.3333]])\n"
          ]
        }
      ],
      "source": [
        "# toy example illustrating how matrix multiplication can be used for a \"weighted aggregation\"\n",
        "torch.manual_seed(42)\n",
        "a = torch.tril(torch.ones(3, 3))\n",
        "a = a / torch.sum(a, 1, keepdim=True)\n",
        "b = torch.randint(0,10,(3,2)).float()\n",
        "c = a @ b\n",
        "print('a=')\n",
        "print(a)\n",
        "print('--')\n",
        "print('b=')\n",
        "print(b)\n",
        "print('--')\n",
        "print('c=')\n",
        "print(c)"
      ]
    },
    {
      "cell_type": "code",
      "execution_count": null,
      "metadata": {
        "colab": {
          "base_uri": "https://localhost:8080/"
        },
        "id": "Hs_E24uRE8kr",
        "outputId": "59fbb60d-f94e-4b40-c178-82a3a0ac8421"
      },
      "outputs": [
        {
          "output_type": "execute_result",
          "data": {
            "text/plain": [
              "torch.Size([4, 8, 2])"
            ]
          },
          "metadata": {},
          "execution_count": 22
        }
      ],
      "source": [
        "# consider the following toy example:\n",
        "\n",
        "torch.manual_seed(1337)\n",
        "B,T,C = 4,8,2 # batch, time, channels\n",
        "x = torch.randn(B,T,C)\n",
        "x.shape"
      ]
    },
    {
      "cell_type": "code",
      "execution_count": null,
      "metadata": {
        "id": "86NuXX0fn7ps"
      },
      "outputs": [],
      "source": [
        "# We want x[b,t] = mean_{i<=t} x[b,i]\n",
        "xbow = torch.zeros((B,T,C))\n",
        "for b in range(B):\n",
        "    for t in range(T):\n",
        "        xprev = x[b,:t+1] # (t,C)\n",
        "        xbow[b,t] = torch.mean(xprev, 0)\n"
      ]
    },
    {
      "cell_type": "code",
      "execution_count": null,
      "metadata": {
        "colab": {
          "base_uri": "https://localhost:8080/"
        },
        "id": "yhdOAd6-wXkZ",
        "outputId": "0c5676e5-0e1d-4921-9d94-f3e708fe6562"
      },
      "outputs": [
        {
          "output_type": "execute_result",
          "data": {
            "text/plain": [
              "False"
            ]
          },
          "metadata": {},
          "execution_count": 24
        }
      ],
      "source": [
        "# version 2: using matrix multiply for a weighted aggregation\n",
        "wei = torch.tril(torch.ones(T, T))\n",
        "wei = wei / wei.sum(1, keepdim=True)\n",
        "xbow2 = wei @ x # (B, T, T) @ (B, T, C) ----> (B, T, C)\n",
        "torch.allclose(xbow, xbow2)"
      ]
    },
    {
      "cell_type": "code",
      "execution_count": null,
      "metadata": {
        "colab": {
          "base_uri": "https://localhost:8080/"
        },
        "id": "wOURrfG-ysoL",
        "outputId": "6b0dc1d9-2ab6-4160-848a-98ad3c28bc58"
      },
      "outputs": [
        {
          "output_type": "execute_result",
          "data": {
            "text/plain": [
              "False"
            ]
          },
          "metadata": {},
          "execution_count": 25
        }
      ],
      "source": [
        "# version 3: use Softmax\n",
        "tril = torch.tril(torch.ones(T, T))\n",
        "wei = torch.zeros((T,T))\n",
        "wei = wei.masked_fill(tril == 0, float('-inf'))\n",
        "wei = F.softmax(wei, dim=-1)\n",
        "xbow3 = wei @ x\n",
        "torch.allclose(xbow, xbow3)\n"
      ]
    },
    {
      "cell_type": "code",
      "execution_count": null,
      "metadata": {
        "colab": {
          "base_uri": "https://localhost:8080/"
        },
        "id": "EDarxEWIRMKq",
        "outputId": "8a920c14-3ca2-4ef0-ed27-209883b2842e"
      },
      "outputs": [
        {
          "output_type": "execute_result",
          "data": {
            "text/plain": [
              "torch.Size([4, 8, 16])"
            ]
          },
          "metadata": {},
          "execution_count": 26
        }
      ],
      "source": [
        "# version 4: self-attention!\n",
        "torch.manual_seed(1337)\n",
        "B,T,C = 4,8,32 # batch, time, channels\n",
        "x = torch.randn(B,T,C)\n",
        "\n",
        "# let's see a single Head perform self-attention\n",
        "head_size = 16\n",
        "key = nn.Linear(C, head_size, bias=False)\n",
        "query = nn.Linear(C, head_size, bias=False)\n",
        "value = nn.Linear(C, head_size, bias=False)\n",
        "k = key(x)   # (B, T, 16)\n",
        "q = query(x) # (B, T, 16)\n",
        "wei =  q @ k.transpose(-2, -1) # (B, T, 16) @ (B, 16, T) ---> (B, T, T)\n",
        "\n",
        "tril = torch.tril(torch.ones(T, T))\n",
        "#wei = torch.zeros((T,T))\n",
        "wei = wei.masked_fill(tril == 0, float('-inf'))\n",
        "wei = F.softmax(wei, dim=-1)\n",
        "\n",
        "v = value(x)\n",
        "out = wei @ v\n",
        "#out = wei @ x\n",
        "\n",
        "out.shape"
      ]
    },
    {
      "cell_type": "code",
      "execution_count": null,
      "metadata": {
        "colab": {
          "base_uri": "https://localhost:8080/"
        },
        "id": "vT1hdtzXCjgL",
        "outputId": "1cd01f61-44e3-4439-a27d-bf7843c846d1"
      },
      "outputs": [
        {
          "output_type": "execute_result",
          "data": {
            "text/plain": [
              "tensor([[1.0000, 0.0000, 0.0000, 0.0000, 0.0000, 0.0000, 0.0000, 0.0000],\n",
              "        [0.1574, 0.8426, 0.0000, 0.0000, 0.0000, 0.0000, 0.0000, 0.0000],\n",
              "        [0.2088, 0.1646, 0.6266, 0.0000, 0.0000, 0.0000, 0.0000, 0.0000],\n",
              "        [0.5792, 0.1187, 0.1889, 0.1131, 0.0000, 0.0000, 0.0000, 0.0000],\n",
              "        [0.0294, 0.1052, 0.0469, 0.0276, 0.7909, 0.0000, 0.0000, 0.0000],\n",
              "        [0.0176, 0.2689, 0.0215, 0.0089, 0.6812, 0.0019, 0.0000, 0.0000],\n",
              "        [0.1691, 0.4066, 0.0438, 0.0416, 0.1048, 0.2012, 0.0329, 0.0000],\n",
              "        [0.0210, 0.0843, 0.0555, 0.2297, 0.0573, 0.0709, 0.2423, 0.2391]],\n",
              "       grad_fn=<SelectBackward0>)"
            ]
          },
          "metadata": {},
          "execution_count": 27
        }
      ],
      "source": [
        "wei[0]"
      ]
    },
    {
      "cell_type": "markdown",
      "metadata": {
        "id": "M5CvobiQ0pLr"
      },
      "source": [
        "Notes:\n",
        "- Attention is a **communication mechanism**. Can be seen as nodes in a directed graph looking at each other and aggregating information with a weighted sum from all nodes that point to them, with data-dependent weights.\n",
        "- There is no notion of space. Attention simply acts over a set of vectors. This is why we need to positionally encode tokens.\n",
        "- Each example across batch dimension is of course processed completely independently and never \"talk\" to each other\n",
        "- In an \"encoder\" attention block just delete the single line that does masking with `tril`, allowing all tokens to communicate. This block here is called a \"decoder\" attention block because it has triangular masking, and is usually used in autoregressive settings, like language modeling.\n",
        "- \"self-attention\" just means that the keys and values are produced from the same source as queries. In \"cross-attention\", the queries still get produced from x, but the keys and values come from some other, external source (e.g. an encoder module)\n",
        "- \"Scaled\" attention additional divides `wei` by 1/sqrt(head_size). This makes it so when input Q,K are unit variance, wei will be unit variance too and Softmax will stay diffuse and not saturate too much. Illustration below"
      ]
    },
    {
      "cell_type": "code",
      "execution_count": null,
      "metadata": {
        "id": "4SNbLq5z3oBw"
      },
      "outputs": [],
      "source": [
        "k = torch.randn(B,T,head_size)\n",
        "q = torch.randn(B,T,head_size)\n",
        "wei = q @ k.transpose(-2, -1) * head_size**-0.5"
      ]
    },
    {
      "cell_type": "code",
      "execution_count": null,
      "metadata": {
        "colab": {
          "base_uri": "https://localhost:8080/"
        },
        "id": "Nl6I9n9IRTSo",
        "outputId": "174f153c-36f7-44fd-ee2d-fe8324298b67"
      },
      "outputs": [
        {
          "output_type": "execute_result",
          "data": {
            "text/plain": [
              "tensor(1.0449)"
            ]
          },
          "metadata": {},
          "execution_count": 29
        }
      ],
      "source": [
        "k.var()"
      ]
    },
    {
      "cell_type": "code",
      "execution_count": null,
      "metadata": {
        "colab": {
          "base_uri": "https://localhost:8080/"
        },
        "id": "T1tQx7oeRvtc",
        "outputId": "aa323c5f-3a0e-4228-a754-faf4bf57b1ed"
      },
      "outputs": [
        {
          "output_type": "execute_result",
          "data": {
            "text/plain": [
              "tensor(1.0700)"
            ]
          },
          "metadata": {},
          "execution_count": 30
        }
      ],
      "source": [
        "q.var()"
      ]
    },
    {
      "cell_type": "code",
      "execution_count": null,
      "metadata": {
        "colab": {
          "base_uri": "https://localhost:8080/"
        },
        "id": "MLb_odHU3iKM",
        "outputId": "6157aacc-17fa-4fe5-8591-3eec9c1f8bae"
      },
      "outputs": [
        {
          "output_type": "execute_result",
          "data": {
            "text/plain": [
              "tensor(1.0918)"
            ]
          },
          "metadata": {},
          "execution_count": 31
        }
      ],
      "source": [
        "wei.var()"
      ]
    },
    {
      "cell_type": "code",
      "execution_count": null,
      "metadata": {
        "colab": {
          "base_uri": "https://localhost:8080/"
        },
        "id": "JB82yzt44REI",
        "outputId": "2788cb5c-0fa3-436b-e4f0-4da9e22862a2"
      },
      "outputs": [
        {
          "output_type": "execute_result",
          "data": {
            "text/plain": [
              "tensor([0.1925, 0.1426, 0.2351, 0.1426, 0.2872])"
            ]
          },
          "metadata": {},
          "execution_count": 32
        }
      ],
      "source": [
        "torch.softmax(torch.tensor([0.1, -0.2, 0.3, -0.2, 0.5]), dim=-1)"
      ]
    },
    {
      "cell_type": "code",
      "execution_count": null,
      "metadata": {
        "colab": {
          "base_uri": "https://localhost:8080/"
        },
        "id": "Mpt8569BB9_f",
        "outputId": "9c37df7a-f673-49ca-e9b2-fe0111d001ee"
      },
      "outputs": [
        {
          "output_type": "execute_result",
          "data": {
            "text/plain": [
              "tensor([0.0326, 0.0030, 0.1615, 0.0030, 0.8000])"
            ]
          },
          "metadata": {},
          "execution_count": 33
        }
      ],
      "source": [
        "torch.softmax(torch.tensor([0.1, -0.2, 0.3, -0.2, 0.5])*8, dim=-1) # gets too peaky, converges to one-hot"
      ]
    },
    {
      "cell_type": "code",
      "execution_count": null,
      "metadata": {
        "colab": {
          "base_uri": "https://localhost:8080/"
        },
        "id": "2Num7sX9CKOH",
        "outputId": "bec1811c-c91b-4c08-d356-9b634c1a5223"
      },
      "outputs": [
        {
          "output_type": "execute_result",
          "data": {
            "text/plain": [
              "torch.Size([32, 100])"
            ]
          },
          "metadata": {},
          "execution_count": 34
        }
      ],
      "source": [
        "class LayerNorm1d: # (used to be BatchNorm1d)\n",
        "\n",
        "  def __init__(self, dim, eps=1e-5, momentum=0.1):\n",
        "    self.eps = eps\n",
        "    self.gamma = torch.ones(dim)\n",
        "    self.beta = torch.zeros(dim)\n",
        "\n",
        "  def __call__(self, x):\n",
        "    # calculate the forward pass\n",
        "    xmean = x.mean(1, keepdim=True) # batch mean\n",
        "    xvar = x.var(1, keepdim=True) # batch variance\n",
        "    xhat = (x - xmean) / torch.sqrt(xvar + self.eps) # normalize to unit variance\n",
        "    self.out = self.gamma * xhat + self.beta\n",
        "    return self.out\n",
        "\n",
        "  def parameters(self):\n",
        "    return [self.gamma, self.beta]\n",
        "\n",
        "torch.manual_seed(1337)\n",
        "module = LayerNorm1d(100)\n",
        "x = torch.randn(32, 100) # batch size 32 of 100-dimensional vectors\n",
        "x = module(x)\n",
        "x.shape"
      ]
    },
    {
      "cell_type": "code",
      "execution_count": null,
      "metadata": {
        "colab": {
          "base_uri": "https://localhost:8080/"
        },
        "id": "633T2cmnW1uk",
        "outputId": "2aa9ccd5-7c0a-4e9b-933a-d319eb0b0065"
      },
      "outputs": [
        {
          "output_type": "execute_result",
          "data": {
            "text/plain": [
              "(tensor(0.1469), tensor(0.8803))"
            ]
          },
          "metadata": {},
          "execution_count": 35
        }
      ],
      "source": [
        "x[:,0].mean(), x[:,0].std() # mean,std of one feature across all batch inputs"
      ]
    },
    {
      "cell_type": "code",
      "execution_count": null,
      "metadata": {
        "colab": {
          "base_uri": "https://localhost:8080/"
        },
        "id": "LN9cK9BoXCYb",
        "outputId": "901eb760-edbc-4956-f3ce-a73d9dca8f89"
      },
      "outputs": [
        {
          "output_type": "execute_result",
          "data": {
            "text/plain": [
              "(tensor(-9.5367e-09), tensor(1.0000))"
            ]
          },
          "metadata": {},
          "execution_count": 36
        }
      ],
      "source": [
        "x[0,:].mean(), x[0,:].std() # mean,std of a single input from the batch, of its features"
      ]
    },
    {
      "cell_type": "code",
      "execution_count": null,
      "metadata": {
        "id": "dRJH6wM_XFfU"
      },
      "outputs": [],
      "source": [
        "# French to English translation example:\n",
        "\n",
        "# <--------- ENCODE ------------------><--------------- DECODE ----------------->\n",
        "# les réseaux de neurones sont géniaux! <START> neural networks are awesome!<END>\n",
        "\n"
      ]
    },
    {
      "cell_type": "markdown",
      "metadata": {
        "id": "ZcvKeBXoZFOY"
      },
      "source": [
        "### Full finished code, for reference\n",
        "\n",
        "You may want to refer directly to the git repo instead though."
      ]
    },
    {
      "cell_type": "code",
      "execution_count": null,
      "metadata": {
        "colab": {
          "base_uri": "https://localhost:8080/"
        },
        "id": "hoelkOrFY8bN",
        "outputId": "cfac09c5-3e22-4b66-bf76-3dd8235b1a9b"
      },
      "outputs": [
        {
          "output_type": "stream",
          "name": "stdout",
          "text": [
            "0.21089 M parameters\n",
            "step 0: train loss 4.2978, val loss 4.2945\n",
            "step 100: train loss 1.8371, val loss 2.0340\n",
            "step 200: train loss 1.6098, val loss 1.7827\n",
            "step 300: train loss 1.5517, val loss 1.6565\n",
            "step 400: train loss 1.5166, val loss 1.5850\n",
            "step 500: train loss 1.4768, val loss 1.5106\n",
            "step 600: train loss 1.4264, val loss 1.4857\n",
            "step 700: train loss 1.3617, val loss 1.4022\n",
            "step 800: train loss 1.3371, val loss 1.3639\n",
            "step 900: train loss 1.3328, val loss 1.3294\n",
            "step 1000: train loss 1.2818, val loss 1.2768\n",
            "step 1100: train loss 1.2732, val loss 1.2530\n",
            "step 1200: train loss 1.2674, val loss 1.2315\n",
            "step 1300: train loss 1.2540, val loss 1.2217\n",
            "step 1400: train loss 1.2267, val loss 1.1717\n",
            "step 1500: train loss 1.2151, val loss 1.1751\n",
            "step 1600: train loss 1.1968, val loss 1.1598\n",
            "step 1700: train loss 1.1899, val loss 1.1312\n",
            "step 1800: train loss 1.1481, val loss 1.1062\n",
            "step 1900: train loss 1.1493, val loss 1.0984\n",
            "step 2000: train loss 1.1480, val loss 1.1148\n",
            "step 2100: train loss 1.1289, val loss 1.0830\n",
            "step 2200: train loss 1.1162, val loss 1.0570\n",
            "step 2300: train loss 1.1238, val loss 1.0307\n",
            "step 2400: train loss 1.0989, val loss 1.0503\n",
            "step 2500: train loss 1.0884, val loss 1.0340\n",
            "step 2600: train loss 1.0768, val loss 1.0161\n",
            "step 2700: train loss 1.0771, val loss 1.0139\n",
            "step 2800: train loss 1.0637, val loss 1.0009\n",
            "step 2900: train loss 1.0490, val loss 1.0103\n",
            "step 3000: train loss 1.0481, val loss 0.9934\n",
            "step 3100: train loss 1.0536, val loss 0.9826\n",
            "step 3200: train loss 1.0324, val loss 0.9722\n",
            "step 3300: train loss 1.0342, val loss 0.9690\n",
            "step 3400: train loss 1.0211, val loss 0.9575\n",
            "step 3500: train loss 1.0105, val loss 0.9366\n",
            "step 3600: train loss 1.0100, val loss 0.9551\n",
            "step 3700: train loss 1.0065, val loss 0.9615\n",
            "step 3800: train loss 1.0141, val loss 0.9439\n",
            "step 3900: train loss 0.9979, val loss 0.9405\n",
            "step 4000: train loss 1.0041, val loss 0.9345\n",
            "step 4100: train loss 0.9888, val loss 0.9435\n",
            "step 4200: train loss 0.9988, val loss 0.9081\n",
            "step 4300: train loss 0.9896, val loss 0.9420\n",
            "step 4400: train loss 0.9796, val loss 0.9045\n",
            "step 4500: train loss 0.9707, val loss 0.9200\n",
            "step 4600: train loss 0.9762, val loss 0.9077\n",
            "step 4700: train loss 0.9859, val loss 0.9119\n",
            "step 4800: train loss 0.9587, val loss 0.9031\n",
            "step 4900: train loss 0.9593, val loss 0.9266\n",
            "step 4999: train loss 0.9655, val loss 0.8915\n",
            "\n",
            "                           Death SEEperir..\n",
            "\n",
            "               Kepo turnon the did finEor ove yalfu. Dee Shas theyet frund awen \n",
            "                         correated. He is reppaid seved an fige of a learshiped down. \n",
            "               Luke helpe tryools dea.\n",
            "\n",
            "               A tell blaust.\n",
            "\n",
            "                                    THREEDO\n",
            "\n",
            "               Some! I thisn't pirate a hid runch exit tor shalbstreed three \n",
            "                foore?\n",
            "\n",
            "                                  LUKE\n",
            "                              I faight your in into jumporing sletrapples \n",
            "                         the Rnow Kiddid to tlett. \n",
            "               EXT. TATOOINE - SVELING - COCKPIT\n",
            "\n",
            "                    The Millens finime. The They'l Jeded reading lights Rebel be wignone the \n",
            "               past exit throom the fisting too their trargy stats arours \n",
            "               foure ruish-and not the spears quited force. The cretall from, eit boltter that's \n",
            "                         You're? Whims explet to tinse her!\n",
            "\n",
            "               Sope aclat, if de a scrount her surpe linst \n",
            "               into mistrainstrover the crecoring shatge was beeqluasions reatty sits geapprate huher popead of sply \n",
            "                         abonitg, ino a shore trooper uppreds \n",
            "                         the remring.\n",
            "\n",
            "                         EXT. SPACE - ROCH\n",
            "\n",
            "               He forme, burn in on. Imper, of \n",
            "                         help. Luke, monining quietes their out chasel the \n",
            "                         fires, seefore up see clapplebe perud the out be couttall the ship his \n",
            "                         thout anyou this leangles over it coftres \n",
            "               the larbing start of the speece you, \n",
            "                         He tot?\n",
            "\n",
            "               Well, Leia warroung the starship the spee \n",
            "               in with sits fither contratil receps overuptraints in the a incepponie on?\n",
            "\n",
            "                                                   LUKE\n",
            "                         Wark sin comsting be mots.\n",
            "\n",
            "                                  BELDER\n",
            "                         T\n"
          ]
        }
      ],
      "source": [
        "import torch\n",
        "import torch.nn as nn\n",
        "from torch.nn import functional as F\n",
        "\n",
        "# hyperparameters\n",
        "batch_size = 16 # how many independent sequences will we process in parallel?\n",
        "block_size = 32 # what is the maximum context length for predictions?\n",
        "max_iters = 5000\n",
        "eval_interval = 100\n",
        "learning_rate = 1e-3\n",
        "device = 'cuda' if torch.cuda.is_available() else 'cpu'\n",
        "eval_iters = 200\n",
        "n_embd = 64\n",
        "n_head = 4\n",
        "n_layer = 4\n",
        "dropout = 0.0\n",
        "# ------------\n",
        "\n",
        "torch.manual_seed(1337)\n",
        "\n",
        "# wget https://raw.githubusercontent.com/karpathy/char-rnn/master/data/tinyshakespeare/input.txt\n",
        "with open('star-wars-gpt.txt', 'r', encoding='utf-8') as f:\n",
        "    text = f.read()\n",
        "\n",
        "# here are all the unique characters that occur in this text\n",
        "chars = sorted(list(set(text)))\n",
        "vocab_size = len(chars)\n",
        "# create a mapping from characters to integers\n",
        "stoi = { ch:i for i,ch in enumerate(chars) }\n",
        "itos = { i:ch for i,ch in enumerate(chars) }\n",
        "encode = lambda s: [stoi[c] for c in s] # encoder: take a string, output a list of integers\n",
        "decode = lambda l: ''.join([itos[i] for i in l]) # decoder: take a list of integers, output a string\n",
        "\n",
        "# Train and test splits\n",
        "data = torch.tensor(encode(text), dtype=torch.long)\n",
        "n = int(0.9*len(data)) # first 90% will be train, rest val\n",
        "train_data = data[:n]\n",
        "val_data = data[n:]\n",
        "\n",
        "# data loading\n",
        "def get_batch(split):\n",
        "    # generate a small batch of data of inputs x and targets y\n",
        "    data = train_data if split == 'train' else val_data\n",
        "    ix = torch.randint(len(data) - block_size, (batch_size,))\n",
        "    x = torch.stack([data[i:i+block_size] for i in ix])\n",
        "    y = torch.stack([data[i+1:i+block_size+1] for i in ix])\n",
        "    x, y = x.to(device), y.to(device)\n",
        "    return x, y\n",
        "\n",
        "@torch.no_grad()\n",
        "def estimate_loss():\n",
        "    out = {}\n",
        "    model.eval()\n",
        "    for split in ['train', 'val']:\n",
        "        losses = torch.zeros(eval_iters)\n",
        "        for k in range(eval_iters):\n",
        "            X, Y = get_batch(split)\n",
        "            logits, loss = model(X, Y)\n",
        "            losses[k] = loss.item()\n",
        "        out[split] = losses.mean()\n",
        "    model.train()\n",
        "    return out\n",
        "\n",
        "class Head(nn.Module):\n",
        "    \"\"\" one head of self-attention \"\"\"\n",
        "\n",
        "    def __init__(self, head_size):\n",
        "        super().__init__()\n",
        "        self.key = nn.Linear(n_embd, head_size, bias=False)\n",
        "        self.query = nn.Linear(n_embd, head_size, bias=False)\n",
        "        self.value = nn.Linear(n_embd, head_size, bias=False)\n",
        "        self.register_buffer('tril', torch.tril(torch.ones(block_size, block_size)))\n",
        "\n",
        "        self.dropout = nn.Dropout(dropout)\n",
        "\n",
        "    def forward(self, x):\n",
        "        B,T,C = x.shape\n",
        "        k = self.key(x)   # (B,T,C)\n",
        "        q = self.query(x) # (B,T,C)\n",
        "        # compute attention scores (\"affinities\")\n",
        "        wei = q @ k.transpose(-2,-1) * C**-0.5 # (B, T, C) @ (B, C, T) -> (B, T, T)\n",
        "        wei = wei.masked_fill(self.tril[:T, :T] == 0, float('-inf')) # (B, T, T)\n",
        "        wei = F.softmax(wei, dim=-1) # (B, T, T)\n",
        "        wei = self.dropout(wei)\n",
        "        # perform the weighted aggregation of the values\n",
        "        v = self.value(x) # (B,T,C)\n",
        "        out = wei @ v # (B, T, T) @ (B, T, C) -> (B, T, C)\n",
        "        return out\n",
        "\n",
        "class MultiHeadAttention(nn.Module):\n",
        "    \"\"\" multiple heads of self-attention in parallel \"\"\"\n",
        "\n",
        "    def __init__(self, num_heads, head_size):\n",
        "        super().__init__()\n",
        "        self.heads = nn.ModuleList([Head(head_size) for _ in range(num_heads)])\n",
        "        self.proj = nn.Linear(n_embd, n_embd)\n",
        "        self.dropout = nn.Dropout(dropout)\n",
        "\n",
        "    def forward(self, x):\n",
        "        out = torch.cat([h(x) for h in self.heads], dim=-1)\n",
        "        out = self.dropout(self.proj(out))\n",
        "        return out\n",
        "\n",
        "class FeedFoward(nn.Module):\n",
        "    \"\"\" a simple linear layer followed by a non-linearity \"\"\"\n",
        "\n",
        "    def __init__(self, n_embd):\n",
        "        super().__init__()\n",
        "        self.net = nn.Sequential(\n",
        "            nn.Linear(n_embd, 4 * n_embd),\n",
        "            nn.ReLU(),\n",
        "            nn.Linear(4 * n_embd, n_embd),\n",
        "            nn.Dropout(dropout),\n",
        "        )\n",
        "\n",
        "    def forward(self, x):\n",
        "        return self.net(x)\n",
        "\n",
        "class Block(nn.Module):\n",
        "    \"\"\" Transformer block: communication followed by computation \"\"\"\n",
        "\n",
        "    def __init__(self, n_embd, n_head):\n",
        "        # n_embd: embedding dimension, n_head: the number of heads we'd like\n",
        "        super().__init__()\n",
        "        head_size = n_embd // n_head\n",
        "        self.sa = MultiHeadAttention(n_head, head_size)\n",
        "        self.ffwd = FeedFoward(n_embd)\n",
        "        self.ln1 = nn.LayerNorm(n_embd)\n",
        "        self.ln2 = nn.LayerNorm(n_embd)\n",
        "\n",
        "    def forward(self, x):\n",
        "        x = x + self.sa(self.ln1(x))\n",
        "        x = x + self.ffwd(self.ln2(x))\n",
        "        return x\n",
        "\n",
        "# super simple bigram model\n",
        "class BigramLanguageModel(nn.Module):\n",
        "\n",
        "    def __init__(self):\n",
        "        super().__init__()\n",
        "        # each token directly reads off the logits for the next token from a lookup table\n",
        "        self.token_embedding_table = nn.Embedding(vocab_size, n_embd)\n",
        "        self.position_embedding_table = nn.Embedding(block_size, n_embd)\n",
        "        self.blocks = nn.Sequential(*[Block(n_embd, n_head=n_head) for _ in range(n_layer)])\n",
        "        self.ln_f = nn.LayerNorm(n_embd) # final layer norm\n",
        "        self.lm_head = nn.Linear(n_embd, vocab_size)\n",
        "\n",
        "    def forward(self, idx, targets=None):\n",
        "        B, T = idx.shape\n",
        "\n",
        "        # idx and targets are both (B,T) tensor of integers\n",
        "        tok_emb = self.token_embedding_table(idx) # (B,T,C)\n",
        "        pos_emb = self.position_embedding_table(torch.arange(T, device=device)) # (T,C)\n",
        "        x = tok_emb + pos_emb # (B,T,C)\n",
        "        x = self.blocks(x) # (B,T,C)\n",
        "        x = self.ln_f(x) # (B,T,C)\n",
        "        logits = self.lm_head(x) # (B,T,vocab_size)\n",
        "\n",
        "        if targets is None:\n",
        "            loss = None\n",
        "        else:\n",
        "            B, T, C = logits.shape\n",
        "            logits = logits.view(B*T, C)\n",
        "            targets = targets.view(B*T)\n",
        "            loss = F.cross_entropy(logits, targets)\n",
        "\n",
        "        return logits, loss\n",
        "\n",
        "    def generate(self, idx, max_new_tokens):\n",
        "        # idx is (B, T) array of indices in the current context\n",
        "        for _ in range(max_new_tokens):\n",
        "            # crop idx to the last block_size tokens\n",
        "            idx_cond = idx[:, -block_size:]\n",
        "            # get the predictions\n",
        "            logits, loss = self(idx_cond)\n",
        "            # focus only on the last time step\n",
        "            logits = logits[:, -1, :] # becomes (B, C)\n",
        "            # apply softmax to get probabilities\n",
        "            probs = F.softmax(logits, dim=-1) # (B, C)\n",
        "            # sample from the distribution\n",
        "            idx_next = torch.multinomial(probs, num_samples=1) # (B, 1)\n",
        "            # append sampled index to the running sequence\n",
        "            idx = torch.cat((idx, idx_next), dim=1) # (B, T+1)\n",
        "        return idx\n",
        "\n",
        "model = BigramLanguageModel()\n",
        "m = model.to(device)\n",
        "# print the number of parameters in the model\n",
        "print(sum(p.numel() for p in m.parameters())/1e6, 'M parameters')\n",
        "\n",
        "# create a PyTorch optimizer\n",
        "optimizer = torch.optim.AdamW(model.parameters(), lr=learning_rate)\n",
        "\n",
        "for iter in range(max_iters):\n",
        "\n",
        "    # every once in a while evaluate the loss on train and val sets\n",
        "    if iter % eval_interval == 0 or iter == max_iters - 1:\n",
        "        losses = estimate_loss()\n",
        "        print(f\"step {iter}: train loss {losses['train']:.4f}, val loss {losses['val']:.4f}\")\n",
        "\n",
        "    # sample a batch of data\n",
        "    xb, yb = get_batch('train')\n",
        "\n",
        "    # evaluate the loss\n",
        "    logits, loss = model(xb, yb)\n",
        "    optimizer.zero_grad(set_to_none=True)\n",
        "    loss.backward()\n",
        "    optimizer.step()\n",
        "\n",
        "# generate from the model\n",
        "context = torch.zeros((1, 1), dtype=torch.long, device=device)\n",
        "print(decode(m.generate(context, max_new_tokens=2000)[0].tolist()))\n"
      ]
    },
    {
      "cell_type": "code",
      "execution_count": null,
      "metadata": {
        "id": "fjjvMifYZf7x"
      },
      "outputs": [],
      "source": []
    }
  ],
  "metadata": {
    "colab": {
      "provenance": []
    },
    "kernelspec": {
      "display_name": "Python 3",
      "name": "python3"
    },
    "language_info": {
      "name": "python"
    }
  },
  "nbformat": 4,
  "nbformat_minor": 0
}